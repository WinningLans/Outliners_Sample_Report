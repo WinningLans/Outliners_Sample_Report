{
 "cells": [
  {
   "cell_type": "code",
   "execution_count": 54,
   "id": "5c241edf-7b38-48ff-a773-7f6c251efcb4",
   "metadata": {},
   "outputs": [
    {
     "data": {
      "text/html": [
       "<div>\n",
       "<style scoped>\n",
       "    .dataframe tbody tr th:only-of-type {\n",
       "        vertical-align: middle;\n",
       "    }\n",
       "\n",
       "    .dataframe tbody tr th {\n",
       "        vertical-align: top;\n",
       "    }\n",
       "\n",
       "    .dataframe thead th {\n",
       "        text-align: right;\n",
       "    }\n",
       "</style>\n",
       "<table border=\"1\" class=\"dataframe\">\n",
       "  <thead>\n",
       "    <tr style=\"text-align: right;\">\n",
       "      <th></th>\n",
       "      <th>year</th>\n",
       "      <th>number_of_strikes</th>\n",
       "    </tr>\n",
       "  </thead>\n",
       "  <tbody>\n",
       "    <tr>\n",
       "      <th>0</th>\n",
       "      <td>2020</td>\n",
       "      <td>15620068</td>\n",
       "    </tr>\n",
       "    <tr>\n",
       "      <th>1</th>\n",
       "      <td>2019</td>\n",
       "      <td>209166</td>\n",
       "    </tr>\n",
       "    <tr>\n",
       "      <th>2</th>\n",
       "      <td>2018</td>\n",
       "      <td>44600989</td>\n",
       "    </tr>\n",
       "    <tr>\n",
       "      <th>3</th>\n",
       "      <td>2017</td>\n",
       "      <td>35095195</td>\n",
       "    </tr>\n",
       "    <tr>\n",
       "      <th>4</th>\n",
       "      <td>2016</td>\n",
       "      <td>41582229</td>\n",
       "    </tr>\n",
       "    <tr>\n",
       "      <th>5</th>\n",
       "      <td>2015</td>\n",
       "      <td>37894191</td>\n",
       "    </tr>\n",
       "    <tr>\n",
       "      <th>6</th>\n",
       "      <td>2014</td>\n",
       "      <td>34919173</td>\n",
       "    </tr>\n",
       "    <tr>\n",
       "      <th>7</th>\n",
       "      <td>2013</td>\n",
       "      <td>27600898</td>\n",
       "    </tr>\n",
       "    <tr>\n",
       "      <th>8</th>\n",
       "      <td>2012</td>\n",
       "      <td>28807552</td>\n",
       "    </tr>\n",
       "    <tr>\n",
       "      <th>9</th>\n",
       "      <td>2011</td>\n",
       "      <td>31392058</td>\n",
       "    </tr>\n",
       "  </tbody>\n",
       "</table>\n",
       "</div>"
      ],
      "text/plain": [
       "   year  number_of_strikes\n",
       "0  2020           15620068\n",
       "1  2019             209166\n",
       "2  2018           44600989\n",
       "3  2017           35095195\n",
       "4  2016           41582229\n",
       "5  2015           37894191\n",
       "6  2014           34919173\n",
       "7  2013           27600898\n",
       "8  2012           28807552\n",
       "9  2011           31392058"
      ]
     },
     "execution_count": 54,
     "metadata": {},
     "output_type": "execute_result"
    }
   ],
   "source": [
    "import pandas as pd\n",
    "import numpy as np\n",
    "import matplotlib.pyplot as plt\n",
    "import seaborn as sns\n",
    "import datetime\n",
    "import plotly.express as px\n",
    "\n",
    "df = pd.read_csv(\"eda_outliers_dataset1.csv\")\n",
    "df.head(10)"
   ]
  },
  {
   "cell_type": "code",
   "execution_count": 12,
   "id": "c4d28c51-4860-4bba-97b5-e92bfef2762e",
   "metadata": {},
   "outputs": [],
   "source": [
    "def readable_numbers(x):\n",
    "    \"\"\"takes a large number and format it into k,M to make it more readable\"\"\"\n",
    "    if x >=1e6:\n",
    "        s= '{:1.1f}M'.format(x*1e-6)\n",
    "    else:\n",
    "        s='{:1.0f}K'.format(x*1e-3)\n",
    "    return s\n",
    "# use the readable_number() function to create a new column\n",
    "df['number_of_strikes_readable'] =df['number_of_strikes'].apply(readable_numbers)"
   ]
  },
  {
   "cell_type": "code",
   "execution_count": 55,
   "id": "4c5f7072-d0f9-4fb9-8dcc-5cb102874b02",
   "metadata": {},
   "outputs": [
    {
     "data": {
      "text/html": [
       "<div>\n",
       "<style scoped>\n",
       "    .dataframe tbody tr th:only-of-type {\n",
       "        vertical-align: middle;\n",
       "    }\n",
       "\n",
       "    .dataframe tbody tr th {\n",
       "        vertical-align: top;\n",
       "    }\n",
       "\n",
       "    .dataframe thead th {\n",
       "        text-align: right;\n",
       "    }\n",
       "</style>\n",
       "<table border=\"1\" class=\"dataframe\">\n",
       "  <thead>\n",
       "    <tr style=\"text-align: right;\">\n",
       "      <th></th>\n",
       "      <th>year</th>\n",
       "      <th>number_of_strikes</th>\n",
       "    </tr>\n",
       "  </thead>\n",
       "  <tbody>\n",
       "    <tr>\n",
       "      <th>0</th>\n",
       "      <td>2020</td>\n",
       "      <td>15620068</td>\n",
       "    </tr>\n",
       "    <tr>\n",
       "      <th>1</th>\n",
       "      <td>2019</td>\n",
       "      <td>209166</td>\n",
       "    </tr>\n",
       "    <tr>\n",
       "      <th>2</th>\n",
       "      <td>2018</td>\n",
       "      <td>44600989</td>\n",
       "    </tr>\n",
       "    <tr>\n",
       "      <th>3</th>\n",
       "      <td>2017</td>\n",
       "      <td>35095195</td>\n",
       "    </tr>\n",
       "    <tr>\n",
       "      <th>4</th>\n",
       "      <td>2016</td>\n",
       "      <td>41582229</td>\n",
       "    </tr>\n",
       "    <tr>\n",
       "      <th>5</th>\n",
       "      <td>2015</td>\n",
       "      <td>37894191</td>\n",
       "    </tr>\n",
       "    <tr>\n",
       "      <th>6</th>\n",
       "      <td>2014</td>\n",
       "      <td>34919173</td>\n",
       "    </tr>\n",
       "    <tr>\n",
       "      <th>7</th>\n",
       "      <td>2013</td>\n",
       "      <td>27600898</td>\n",
       "    </tr>\n",
       "    <tr>\n",
       "      <th>8</th>\n",
       "      <td>2012</td>\n",
       "      <td>28807552</td>\n",
       "    </tr>\n",
       "    <tr>\n",
       "      <th>9</th>\n",
       "      <td>2011</td>\n",
       "      <td>31392058</td>\n",
       "    </tr>\n",
       "  </tbody>\n",
       "</table>\n",
       "</div>"
      ],
      "text/plain": [
       "   year  number_of_strikes\n",
       "0  2020           15620068\n",
       "1  2019             209166\n",
       "2  2018           44600989\n",
       "3  2017           35095195\n",
       "4  2016           41582229\n",
       "5  2015           37894191\n",
       "6  2014           34919173\n",
       "7  2013           27600898\n",
       "8  2012           28807552\n",
       "9  2011           31392058"
      ]
     },
     "execution_count": 55,
     "metadata": {},
     "output_type": "execute_result"
    }
   ],
   "source": [
    "df.head(10)"
   ]
  },
  {
   "cell_type": "code",
   "execution_count": 17,
   "id": "87a6117b-da9b-4276-859a-1d4e2029c457",
   "metadata": {},
   "outputs": [
    {
     "name": "stdout",
     "output_type": "stream",
     "text": [
      "Mean:26.8M\n",
      "Median:28.3M\n"
     ]
    }
   ],
   "source": [
    "print(\"Mean:\" + readable_numbers(np.mean(df['number_of_strikes'])))\n",
    "print(\"Median:\" + readable_numbers(np.median(df['number_of_strikes'])))"
   ]
  },
  {
   "cell_type": "code",
   "execution_count": 56,
   "id": "f3da8cb0-3681-41de-bb63-cf25dc2888ae",
   "metadata": {},
   "outputs": [
    {
     "name": "stderr",
     "output_type": "stream",
     "text": [
      "C:\\Users\\HP\\AppData\\Local\\Programs\\Python\\Python311\\Lib\\site-packages\\seaborn\\_oldcore.py:1498: FutureWarning: is_categorical_dtype is deprecated and will be removed in a future version. Use isinstance(dtype, CategoricalDtype) instead\n",
      "  if pd.api.types.is_categorical_dtype(vector):\n",
      "C:\\Users\\HP\\AppData\\Local\\Temp\\ipykernel_3504\\786337425.py:4: UserWarning: set_ticklabels() should only be used with a fixed number of ticks, i.e. after set_ticks() or using a FixedLocator.\n",
      "  box.set_xticklabels(np.array([readable_numbers(x) for x in g.get_xticks()]))\n"
     ]
    },
    {
     "data": {
      "image/png": "[encoded data removed]",
      "text/plain": [
       "<Figure size 640x480 with 1 Axes>"
      ]
     },
     "metadata": {},
     "output_type": "display_data"
    }
   ],
   "source": [
    "#Create boxplot\n",
    "box = sns.boxplot(x=df['number_of_strikes'])\n",
    "g = plt.gca()\n",
    "box.set_xticklabels(np.array([readable_numbers(x) for x in g.get_xticks()]))\n",
    "plt.xlabel('Number of Strikes')\n",
    "plt.title('Yearly number of lightning strikes');"
   ]
  },
  {
   "cell_type": "code",
   "execution_count": 57,
   "id": "0495a431-1b0e-4610-a998-74b7b8024552",
   "metadata": {},
   "outputs": [],
   "source": [
    "# Any values that fall 1.5 times below our blue bos is the outliers\n",
    "# Calculate 25th percntile of annual strikes\n",
    "percentile25 = df['number_of_strikes'].quantile(0.25)\n",
    "# Calculate 75th percntile of annual strikes\n",
    "percentile75 = df['number_of_strikes'].quantile(0.75)"
   ]
  },
  {
   "cell_type": "code",
   "execution_count": 58,
   "id": "c9f3916f-22ae-41a7-becd-757eaecd4466",
   "metadata": {},
   "outputs": [],
   "source": [
    "# Calculate interquartile range\n",
    "iqr = percentile75 -percentile25\n",
    "\n",
    "# Calculate upper and lower thresholds for outliers\n",
    "upper_limit = percentile75 + 1.5* iqr\n",
    "lower_limit = percentile25 - 1.5* iqr"
   ]
  },
  {
   "cell_type": "code",
   "execution_count": 59,
   "id": "cf405639-9b56-4e8c-b985-4c491f21c9a0",
   "metadata": {},
   "outputs": [
    {
     "name": "stdout",
     "output_type": "stream",
     "text": [
      "Lower limit is: 8.6M\n"
     ]
    }
   ],
   "source": [
    "print('Lower limit is: ' + readable_numbers(lower_limit))"
   ]
  },
  {
   "cell_type": "code",
   "execution_count": 60,
   "id": "ffd6460a-39b2-4a36-91ca-47a120f1d977",
   "metadata": {},
   "outputs": [
    {
     "data": {
      "text/html": [
       "<div>\n",
       "<style scoped>\n",
       "    .dataframe tbody tr th:only-of-type {\n",
       "        vertical-align: middle;\n",
       "    }\n",
       "\n",
       "    .dataframe tbody tr th {\n",
       "        vertical-align: top;\n",
       "    }\n",
       "\n",
       "    .dataframe thead th {\n",
       "        text-align: right;\n",
       "    }\n",
       "</style>\n",
       "<table border=\"1\" class=\"dataframe\">\n",
       "  <thead>\n",
       "    <tr style=\"text-align: right;\">\n",
       "      <th></th>\n",
       "      <th>year</th>\n",
       "      <th>number_of_strikes</th>\n",
       "    </tr>\n",
       "  </thead>\n",
       "  <tbody>\n",
       "    <tr>\n",
       "      <th>1</th>\n",
       "      <td>2019</td>\n",
       "      <td>209166</td>\n",
       "    </tr>\n",
       "    <tr>\n",
       "      <th>33</th>\n",
       "      <td>1987</td>\n",
       "      <td>7378836</td>\n",
       "    </tr>\n",
       "  </tbody>\n",
       "</table>\n",
       "</div>"
      ],
      "text/plain": [
       "    year  number_of_strikes\n",
       "1   2019             209166\n",
       "33  1987            7378836"
      ]
     },
     "execution_count": 60,
     "metadata": {},
     "output_type": "execute_result"
    }
   ],
   "source": [
    "# Isolate outliers on low end\n",
    "df[df['number_of_strikes']< lower_limit]"
   ]
  },
  {
   "cell_type": "code",
   "execution_count": 61,
   "id": "4d788945-9269-45f4-a75b-01b35735f686",
   "metadata": {},
   "outputs": [],
   "source": [
    "def addlabels(x,y):\n",
    "    for i in range(len(x)):\n",
    "        plt.text(x[i]-0.5, y[i]+0.05, s = readable_numbers(y[i]))"
   ]
  },
  {
   "cell_type": "code",
   "execution_count": 36,
   "id": "bb927c4d-c8a5-46f5-ab18-094591d20d76",
   "metadata": {},
   "outputs": [
    {
     "data": {
      "image/png": "[encoded data removed]",
      "text/plain": [
       "<Figure size 1600x800 with 1 Axes>"
      ]
     },
     "metadata": {},
     "output_type": "display_data"
    }
   ],
   "source": [
    "colours =np.where(df['number_of_strikes'] < lower_limit, 'r', 'b')\n",
    "\n",
    "fig, ax = plt.subplots(figsize =(16,8))\n",
    "ax.scatter(df['year'], df['number_of_strikes'], c=colours)\n",
    "ax.set_xlabel('Year')\n",
    "ax.set_ylabel('Number of strikes')\n",
    "ax.set_title('Number of lightning strikes by year')\n",
    "addlabels(df['year'], df['number_of_strikes'])\n",
    "for tick in ax.get_xticklabels():\n",
    "    tick.set_rotation(45)\n",
    "plt.show()"
   ]
  },
  {
   "cell_type": "code",
   "execution_count": 62,
   "id": "b21c21ce-a49c-4e81-96a8-bc192a2b4ccb",
   "metadata": {},
   "outputs": [],
   "source": [
    "df_2019 = pd.read_csv('eda_outliers_dataset2.csv')\n",
    "df_2019.head()\n",
    "\n",
    "# Convert 'date' column to datetime\n",
    "df_2019['date'] = pd.to_datetime(df_2019['date'])"
   ]
  },
  {
   "cell_type": "code",
   "execution_count": 63,
   "id": "afdcfd87-2508-468f-8fa8-602c4a53600b",
   "metadata": {},
   "outputs": [
    {
     "data": {
      "text/html": [
       "<div>\n",
       "<style scoped>\n",
       "    .dataframe tbody tr th:only-of-type {\n",
       "        vertical-align: middle;\n",
       "    }\n",
       "\n",
       "    .dataframe tbody tr th {\n",
       "        vertical-align: top;\n",
       "    }\n",
       "\n",
       "    .dataframe thead th {\n",
       "        text-align: right;\n",
       "    }\n",
       "</style>\n",
       "<table border=\"1\" class=\"dataframe\">\n",
       "  <thead>\n",
       "    <tr style=\"text-align: right;\">\n",
       "      <th></th>\n",
       "      <th></th>\n",
       "      <th>number_of_strikes</th>\n",
       "    </tr>\n",
       "    <tr>\n",
       "      <th>month</th>\n",
       "      <th>month_txt</th>\n",
       "      <th></th>\n",
       "    </tr>\n",
       "  </thead>\n",
       "  <tbody>\n",
       "    <tr>\n",
       "      <th>12</th>\n",
       "      <th>Dec</th>\n",
       "      <td>209166</td>\n",
       "    </tr>\n",
       "  </tbody>\n",
       "</table>\n",
       "</div>"
      ],
      "text/plain": [
       "                 number_of_strikes\n",
       "month month_txt                   \n",
       "12    Dec                   209166"
      ]
     },
     "execution_count": 63,
     "metadata": {},
     "output_type": "execute_result"
    }
   ],
   "source": [
    "#Create 2 new columns\n",
    "df_2019['month'] =df_2019['date'].dt.month\n",
    "df_2019['month_txt'] =df_2019['date'].dt.month_name(). str.slice(stop=3)\n",
    "\n",
    "# Group by 'month' and 'month_txt', um it, and sort. assign result to new df\n",
    "df_2019_by_month = df_2019.groupby(['month','month_txt']).sum('numeric only').sort_values('month', ascending = True).head(10)\n",
    "df_2019_by_month"
   ]
  },
  {
   "cell_type": "code",
   "execution_count": 64,
   "id": "12dcb39a-dfd7-414d-8231-20b5087e7ba5",
   "metadata": {},
   "outputs": [],
   "source": [
    "df_1987 = pd.read_csv('eda_outliers_dataset3.csv')\n",
    "df_1987.head()\n",
    "\n",
    "# Convert 'date' column to datetime\n",
    "df_1987['date'] = pd.to_datetime(df_1987['date'])"
   ]
  },
  {
   "cell_type": "code",
   "execution_count": 50,
   "id": "cf9a3304-2ffa-4c16-b15a-c4f05b81b141",
   "metadata": {},
   "outputs": [
    {
     "data": {
      "text/html": [
       "<div>\n",
       "<style scoped>\n",
       "    .dataframe tbody tr th:only-of-type {\n",
       "        vertical-align: middle;\n",
       "    }\n",
       "\n",
       "    .dataframe tbody tr th {\n",
       "        vertical-align: top;\n",
       "    }\n",
       "\n",
       "    .dataframe thead th {\n",
       "        text-align: right;\n",
       "    }\n",
       "</style>\n",
       "<table border=\"1\" class=\"dataframe\">\n",
       "  <thead>\n",
       "    <tr style=\"text-align: right;\">\n",
       "      <th></th>\n",
       "      <th></th>\n",
       "      <th>number_of_strikes</th>\n",
       "    </tr>\n",
       "    <tr>\n",
       "      <th>month</th>\n",
       "      <th>month_txt</th>\n",
       "      <th></th>\n",
       "    </tr>\n",
       "  </thead>\n",
       "  <tbody>\n",
       "    <tr>\n",
       "      <th>1</th>\n",
       "      <th>Jan</th>\n",
       "      <td>23044</td>\n",
       "    </tr>\n",
       "    <tr>\n",
       "      <th>2</th>\n",
       "      <th>Feb</th>\n",
       "      <td>61020</td>\n",
       "    </tr>\n",
       "    <tr>\n",
       "      <th>3</th>\n",
       "      <th>Mar</th>\n",
       "      <td>117877</td>\n",
       "    </tr>\n",
       "    <tr>\n",
       "      <th>4</th>\n",
       "      <th>Apr</th>\n",
       "      <td>157890</td>\n",
       "    </tr>\n",
       "    <tr>\n",
       "      <th>5</th>\n",
       "      <th>May</th>\n",
       "      <td>700910</td>\n",
       "    </tr>\n",
       "    <tr>\n",
       "      <th>6</th>\n",
       "      <th>Jun</th>\n",
       "      <td>1064166</td>\n",
       "    </tr>\n",
       "    <tr>\n",
       "      <th>7</th>\n",
       "      <th>Jul</th>\n",
       "      <td>2077619</td>\n",
       "    </tr>\n",
       "    <tr>\n",
       "      <th>8</th>\n",
       "      <th>Aug</th>\n",
       "      <td>2001899</td>\n",
       "    </tr>\n",
       "    <tr>\n",
       "      <th>9</th>\n",
       "      <th>Sep</th>\n",
       "      <td>869833</td>\n",
       "    </tr>\n",
       "    <tr>\n",
       "      <th>10</th>\n",
       "      <th>Oct</th>\n",
       "      <td>105627</td>\n",
       "    </tr>\n",
       "    <tr>\n",
       "      <th>11</th>\n",
       "      <th>Nov</th>\n",
       "      <td>155290</td>\n",
       "    </tr>\n",
       "    <tr>\n",
       "      <th>12</th>\n",
       "      <th>Dec</th>\n",
       "      <td>43661</td>\n",
       "    </tr>\n",
       "  </tbody>\n",
       "</table>\n",
       "</div>"
      ],
      "text/plain": [
       "                 number_of_strikes\n",
       "month month_txt                   \n",
       "1     Jan                    23044\n",
       "2     Feb                    61020\n",
       "3     Mar                   117877\n",
       "4     Apr                   157890\n",
       "5     May                   700910\n",
       "6     Jun                  1064166\n",
       "7     Jul                  2077619\n",
       "8     Aug                  2001899\n",
       "9     Sep                   869833\n",
       "10    Oct                   105627\n",
       "11    Nov                   155290\n",
       "12    Dec                    43661"
      ]
     },
     "execution_count": 50,
     "metadata": {},
     "output_type": "execute_result"
    }
   ],
   "source": [
    "#Create 2 new columns\n",
    "df_1987['month'] =df_1987['date'].dt.month\n",
    "df_1987['month_txt'] =df_1987['date'].dt.month_name(). str.slice(stop=3)\n",
    "\n",
    "# Group by 'month' and 'month_txt', um it, and sort. assign result to new df\n",
    "df_1987_by_month = df_1987.groupby(['month','month_txt']).sum('numeric only').sort_values('month', ascending = True).head(12)\n",
    "df_1987_by_month"
   ]
  },
  {
   "cell_type": "code",
   "execution_count": 67,
   "id": "0f1e7dfe-9004-4736-a07a-5cdc74842854",
   "metadata": {},
   "outputs": [
    {
     "name": "stdout",
     "output_type": "stream",
     "text": [
      "Mean:28.2M\n",
      "Median:28.8M\n"
     ]
    }
   ],
   "source": [
    "#Create new df that removes outliers\n",
    "df_without_outliers = df[df['number_of_strikes'] >= lower_limit]\n",
    "\n",
    "# Recalculate means and median values on data without outliers\n",
    "print(\"Mean:\" + readable_numbers(np.mean(df_without_outliers['number_of_strikes'])))\n",
    "print(\"Median:\" + readable_numbers(np.median(df_without_outliers['number_of_strikes'])))"
   ]
  },
  {
   "cell_type": "code",
   "execution_count": null,
   "id": "32337b34-5561-4405-ba77-4d8be4cc488c",
   "metadata": {},
   "outputs": [],
   "source": []
  }
 ],
 "metadata": {
  "kernelspec": {
   "display_name": "Python 3 (ipykernel)",
   "language": "python",
   "name": "python3"
  },
  "language_info": {
   "codemirror_mode": {
    "name": "ipython",
    "version": 3
   },
   "file_extension": ".py",
   "mimetype": "text/x-python",
   "name": "python",
   "nbconvert_exporter": "python",
   "pygments_lexer": "ipython3",
   "version": "3.11.5"
  }
 },
 "nbformat": 4,
 "nbformat_minor": 5
}
